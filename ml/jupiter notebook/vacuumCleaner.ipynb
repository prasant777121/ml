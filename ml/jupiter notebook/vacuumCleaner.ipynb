{
 "cells": [
  {
   "cell_type": "code",
   "execution_count": 9,
   "id": "0e164b5b",
   "metadata": {},
   "outputs": [
    {
     "name": "stdout",
     "output_type": "stream",
     "text": [
      "hello\n"
     ]
    }
   ],
   "source": [
    "print(\"hello\")"
   ]
  },
  {
   "cell_type": "code",
   "execution_count": 11,
   "id": "b3526402",
   "metadata": {},
   "outputs": [
    {
     "ename": "AttributeError",
     "evalue": "'VacumAGent' object has no attribute 'position'",
     "output_type": "error",
     "traceback": [
      "\u001b[1;31m---------------------------------------------------------------------------\u001b[0m",
      "\u001b[1;31mAttributeError\u001b[0m                            Traceback (most recent call last)",
      "Input \u001b[1;32mIn [11]\u001b[0m, in \u001b[0;36m<cell line: 18>\u001b[1;34m()\u001b[0m\n\u001b[0;32m     14\u001b[0m         \u001b[38;5;28mprint\u001b[39m(\u001b[38;5;124m\"\u001b[39m\u001b[38;5;124mcleaning from position\u001b[39m\u001b[38;5;124m\"\u001b[39m,\u001b[38;5;28mself\u001b[39m\u001b[38;5;241m.\u001b[39mposition)\n\u001b[0;32m     17\u001b[0m vacum_agent \u001b[38;5;241m=\u001b[39mVacumAGent()\n\u001b[1;32m---> 18\u001b[0m \u001b[43mvacum_agent\u001b[49m\u001b[38;5;241;43m.\u001b[39;49m\u001b[43mmove_left\u001b[49m\u001b[43m(\u001b[49m\u001b[43m)\u001b[49m\n\u001b[0;32m     19\u001b[0m vacum_agent\u001b[38;5;241m.\u001b[39mclean()\n\u001b[0;32m     20\u001b[0m vacum_agent\u001b[38;5;241m.\u001b[39mmove_right()\n",
      "Input \u001b[1;32mIn [11]\u001b[0m, in \u001b[0;36mVacumAGent.move_left\u001b[1;34m(self)\u001b[0m\n\u001b[0;32m      5\u001b[0m \u001b[38;5;28;01mdef\u001b[39;00m \u001b[38;5;21mmove_left\u001b[39m(\u001b[38;5;28mself\u001b[39m):\n\u001b[1;32m----> 6\u001b[0m     \u001b[38;5;28;01mif\u001b[39;00m \u001b[38;5;28;43mself\u001b[39;49m\u001b[38;5;241;43m.\u001b[39;49m\u001b[43mposition\u001b[49m \u001b[38;5;241m>\u001b[39m\u001b[38;5;241m0\u001b[39m:\n\u001b[0;32m      7\u001b[0m         \u001b[38;5;28mself\u001b[39m\u001b[38;5;241m.\u001b[39mposition \u001b[38;5;241m=\u001b[39m (\u001b[38;5;28mself\u001b[39m\u001b[38;5;241m.\u001b[39mposition \u001b[38;5;241m-\u001b[39m\u001b[38;5;241m1\u001b[39m)\n",
      "\u001b[1;31mAttributeError\u001b[0m: 'VacumAGent' object has no attribute 'position'"
     ]
    }
   ],
   "source": [
    "class VacumAGent :\n",
    "    def init(self):\n",
    "        self.position = 0\n",
    "        \n",
    "    def move_left(self):\n",
    "        if self.position >0:\n",
    "            self.position = (self.position -1)\n",
    "    \n",
    "    def move_right(self):\n",
    "        if self.position < 1:\n",
    "            self.position = (self.position +1)\n",
    "            \n",
    "    def clean(self):\n",
    "        print(\"cleaning from position\",self.position)\n",
    "            \n",
    "            \n",
    "vacum_agent =VacumAGent()\n",
    "vacum_agent.move_left()\n",
    "vacum_agent.clean()\n",
    "vacum_agent.move_right()\n",
    "vacum_agent.clean()"
   ]
  },
  {
   "cell_type": "code",
   "execution_count": null,
   "id": "dba874f3",
   "metadata": {},
   "outputs": [],
   "source": []
  }
 ],
 "metadata": {
  "kernelspec": {
   "display_name": "Python 3 (ipykernel)",
   "language": "python",
   "name": "python3"
  },
  "language_info": {
   "codemirror_mode": {
    "name": "ipython",
    "version": 3
   },
   "file_extension": ".py",
   "mimetype": "text/x-python",
   "name": "python",
   "nbconvert_exporter": "python",
   "pygments_lexer": "ipython3",
   "version": "3.10.9"
  }
 },
 "nbformat": 4,
 "nbformat_minor": 5
}
