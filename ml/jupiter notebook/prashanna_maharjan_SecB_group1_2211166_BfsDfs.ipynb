{
 "cells": [
  {
   "cell_type": "code",
   "execution_count": 4,
   "id": "91a99b51",
   "metadata": {},
   "outputs": [
    {
     "name": "stdout",
     "output_type": "stream",
     "text": [
      "Following is the Breadth First Search\n",
      "ABCDEF"
     ]
    }
   ],
   "source": [
    "graph = {\n",
    "'A' : ['B', 'C'],\n",
    "'B' : ['D', 'E'],\n",
    "'C' : ['F'],\n",
    "'D' : [],\n",
    "'E' : ['F'],\n",
    "'F' : []\n",
    "}\n",
    "\n",
    "visited = []\n",
    "queue = []\n",
    "\n",
    "def bfs(visited,graph,node):\n",
    " visited.append(node)\n",
    " queue.append(node) \n",
    "\n",
    " while queue:\n",
    "  m = queue.pop(0)\n",
    "  print(m,end = \"\")\n",
    "\n",
    "  for node in graph[m]:\n",
    "    if node not in visited:\n",
    "      visited.append(node)\n",
    "      queue.append(node) \n",
    "print(\"Following is the Breadth First Search\")\n",
    "bfs(visited,graph, 'A')"
   ]
  },
  {
   "cell_type": "code",
   "execution_count": 3,
   "id": "9a3fd901",
   "metadata": {},
   "outputs": [
    {
     "name": "stdout",
     "output_type": "stream",
     "text": [
      "Following is the Dreadth First Search\n",
      "A\n",
      "B\n",
      "D\n",
      "E\n",
      "F\n",
      "C\n"
     ]
    }
   ],
   "source": [
    "graph = {\n",
    "'A' : ['B', 'C'],\n",
    "'B' : ['D', 'E'],\n",
    "'C' : ['F'],\n",
    "'D' : [],\n",
    "'E' : ['F'],\n",
    "'F' : []\n",
    "}\n",
    "\n",
    "visited = set()\n",
    "\n",
    "def dfs(visited,graph,node):\n",
    "    if node not in visited:\n",
    "        print(node)\n",
    "        visited.add(node)\n",
    "        for neighbour in graph[node]:\n",
    "            dfs(visited,graph,neighbour)\n",
    "print(\"Following is the Dreadth First Search\")\n",
    "dfs(visited,graph, 'A')"
   ]
  },
  {
   "cell_type": "code",
   "execution_count": null,
   "id": "478b720a",
   "metadata": {},
   "outputs": [],
   "source": []
  },
  {
   "cell_type": "code",
   "execution_count": null,
   "id": "043712e2",
   "metadata": {},
   "outputs": [],
   "source": []
  }
 ],
 "metadata": {
  "kernelspec": {
   "display_name": "Python 3 (ipykernel)",
   "language": "python",
   "name": "python3"
  },
  "language_info": {
   "codemirror_mode": {
    "name": "ipython",
    "version": 3
   },
   "file_extension": ".py",
   "mimetype": "text/x-python",
   "name": "python",
   "nbconvert_exporter": "python",
   "pygments_lexer": "ipython3",
   "version": "3.10.9"
  },
  "varInspector": {
   "cols": {
    "lenName": 16,
    "lenType": 16,
    "lenVar": 40
   },
   "kernels_config": {
    "python": {
     "delete_cmd_postfix": "",
     "delete_cmd_prefix": "del ",
     "library": "var_list.py",
     "varRefreshCmd": "print(var_dic_list())"
    },
    "r": {
     "delete_cmd_postfix": ") ",
     "delete_cmd_prefix": "rm(",
     "library": "var_list.r",
     "varRefreshCmd": "cat(var_dic_list()) "
    }
   },
   "types_to_exclude": [
    "module",
    "function",
    "builtin_function_or_method",
    "instance",
    "_Feature"
   ],
   "window_display": false
  }
 },
 "nbformat": 4,
 "nbformat_minor": 5
}
