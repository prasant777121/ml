{
 "cells": [
  {
   "cell_type": "code",
   "execution_count": 1,
   "id": "0a9ee782",
   "metadata": {},
   "outputs": [
    {
     "name": "stdout",
     "output_type": "stream",
     "text": [
      "Requirement already satisfied: pip in c:\\users\\user\\anaconda3\\lib\\site-packages (23.2.1)\n",
      "Collecting pip\n",
      "  Obtaining dependency information for pip from https://files.pythonhosted.org/packages/47/6a/453160888fab7c6a432a6e25f8afe6256d0d9f2cbd25971021da6491d899/pip-23.3.1-py3-none-any.whl.metadata\n",
      "  Using cached pip-23.3.1-py3-none-any.whl.metadata (3.5 kB)\n",
      "Using cached pip-23.3.1-py3-none-any.whl (2.1 MB)\n"
     ]
    },
    {
     "name": "stderr",
     "output_type": "stream",
     "text": [
      "ERROR: To modify pip, please run the following command:\n",
      "C:\\Users\\user\\anaconda3\\python.exe -m pip install --upgrade pip\n",
      "\n",
      "[notice] A new release of pip is available: 23.2.1 -> 23.3.1\n",
      "[notice] To update, run: python.exe -m pip install --upgrade pip\n",
      "\n",
      "[notice] A new release of pip is available: 23.2.1 -> 23.3.1\n",
      "[notice] To update, run: python.exe -m pip install --upgrade pip\n"
     ]
    },
    {
     "name": "stdout",
     "output_type": "stream",
     "text": [
      "Requirement already satisfied: imageio in c:\\users\\user\\anaconda3\\lib\\site-packages (2.26.0)\n",
      "Requirement already satisfied: numpy in c:\\users\\user\\anaconda3\\lib\\site-packages (from imageio) (1.23.5)\n",
      "Requirement already satisfied: pillow>=8.3.2 in c:\\users\\user\\anaconda3\\lib\\site-packages (from imageio) (9.4.0)\n"
     ]
    }
   ],
   "source": [
    " !pip install --upgrade pip\n",
    "!pip install imageio\n",
    "import imageio\n",
    "from imageio import imread, imsave\n",
    "\n"
   ]
  },
  {
   "cell_type": "code",
   "execution_count": 2,
   "id": "92530348",
   "metadata": {},
   "outputs": [
    {
     "name": "stdout",
     "output_type": "stream",
     "text": [
      "uint8 (500, 500, 4)\n"
     ]
    }
   ],
   "source": [
    "import imageio.v2 as imageio  # Use imageio.v2 to suppress the deprecation warning\n",
    "\n",
    "# Read the image\n",
    "img = imageio.imread('ok.png')\n",
    "\n",
    "# Print information about the image\n",
    "print(img.dtype, img.shape)\n"
   ]
  },
  {
   "cell_type": "code",
   "execution_count": 3,
   "id": "1cc2b7ac",
   "metadata": {},
   "outputs": [
    {
     "data": {
      "text/plain": [
       "Array([[[ 35,  31,  32, 255],\n",
       "        [ 35,  31,  32, 255],\n",
       "        [ 35,  31,  32, 255],\n",
       "        ...,\n",
       "        [ 35,  31,  32, 255],\n",
       "        [ 35,  31,  32, 255],\n",
       "        [ 35,  31,  32, 255]],\n",
       "\n",
       "       [[ 35,  31,  32, 255],\n",
       "        [ 35,  31,  32, 255],\n",
       "        [ 35,  31,  32, 255],\n",
       "        ...,\n",
       "        [ 35,  31,  32, 255],\n",
       "        [ 35,  31,  32, 255],\n",
       "        [ 35,  31,  32, 255]],\n",
       "\n",
       "       [[ 35,  31,  32, 255],\n",
       "        [ 35,  31,  32, 255],\n",
       "        [ 35,  31,  32, 255],\n",
       "        ...,\n",
       "        [ 35,  31,  32, 255],\n",
       "        [ 35,  31,  32, 255],\n",
       "        [ 35,  31,  32, 255]],\n",
       "\n",
       "       ...,\n",
       "\n",
       "       [[ 35,  31,  32, 255],\n",
       "        [ 35,  31,  32, 255],\n",
       "        [ 35,  31,  32, 255],\n",
       "        ...,\n",
       "        [ 35,  31,  32, 255],\n",
       "        [ 35,  31,  32, 255],\n",
       "        [ 35,  31,  32, 255]],\n",
       "\n",
       "       [[ 35,  31,  32, 255],\n",
       "        [ 35,  31,  32, 255],\n",
       "        [ 35,  31,  32, 255],\n",
       "        ...,\n",
       "        [ 35,  31,  32, 255],\n",
       "        [ 35,  31,  32, 255],\n",
       "        [ 35,  31,  32, 255]],\n",
       "\n",
       "       [[ 35,  31,  32, 255],\n",
       "        [ 35,  31,  32, 255],\n",
       "        [ 35,  31,  32, 255],\n",
       "        ...,\n",
       "        [ 35,  31,  32, 255],\n",
       "        [ 35,  31,  32, 255],\n",
       "        [ 35,  31,  32, 255]]], dtype=uint8)"
      ]
     },
     "execution_count": 3,
     "metadata": {},
     "output_type": "execute_result"
    }
   ],
   "source": [
    "img"
   ]
  },
  {
   "cell_type": "code",
   "execution_count": 6,
   "id": "e8251972",
   "metadata": {},
   "outputs": [
    {
     "name": "stderr",
     "output_type": "stream",
     "text": [
      "Lossy conversion from float64 to uint8. Range [0.0, 255.0]. Convert image to uint8 prior to saving to suppress this warning.\n"
     ]
    }
   ],
   "source": []
  },
  {
   "cell_type": "code",
   "execution_count": null,
   "id": "e0ac75b4",
   "metadata": {},
   "outputs": [],
   "source": []
  },
  {
   "cell_type": "code",
   "execution_count": 7,
   "id": "7f587f2e",
   "metadata": {},
   "outputs": [],
   "source": [
    "# Define the tint factors for each channel\n",
    "tint = [1, 0.22, 0.2, 1]\n",
    "\n",
    "# Multiply each channel by the corresponding value in the tint array\n",
    "img_tint = (img * tint).astype('uint8')  # Convert to uint8\n",
    "\n",
    "# Save the tinted image\n",
    "imsave('img_tint.png', img_tint)"
   ]
  },
  {
   "cell_type": "code",
   "execution_count": null,
   "id": "dd4264ce",
   "metadata": {},
   "outputs": [],
   "source": []
  }
 ],
 "metadata": {
  "kernelspec": {
   "display_name": "Python 3 (ipykernel)",
   "language": "python",
   "name": "python3"
  },
  "language_info": {
   "codemirror_mode": {
    "name": "ipython",
    "version": 3
   },
   "file_extension": ".py",
   "mimetype": "text/x-python",
   "name": "python",
   "nbconvert_exporter": "python",
   "pygments_lexer": "ipython3",
   "version": "3.10.9"
  }
 },
 "nbformat": 4,
 "nbformat_minor": 5
}
